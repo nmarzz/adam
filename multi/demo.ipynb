{
 "cells": [
  {
   "cell_type": "code",
   "execution_count": null,
   "metadata": {},
   "outputs": [
    {
     "ename": "TypeError",
     "evalue": "dot_general requires contracting dimensions to have the same shape, got (300,) and (2,).",
     "output_type": "error",
     "traceback": [
      "\u001b[0;31m---------------------------------------------------------------------------\u001b[0m",
      "\u001b[0;31mTypeError\u001b[0m                                 Traceback (most recent call last)",
      "Cell \u001b[0;32mIn[7], line 43\u001b[0m\n\u001b[1;32m     40\u001b[0m adam \u001b[38;5;241m=\u001b[39m Adam(problem_type)\n\u001b[1;32m     41\u001b[0m sgd \u001b[38;5;241m=\u001b[39m SGD(problem_type)\n\u001b[0;32m---> 43\u001b[0m at, adam_risks \u001b[38;5;241m=\u001b[39m \u001b[43madam\u001b[49m\u001b[38;5;241;43m.\u001b[39;49m\u001b[43mrun\u001b[49m\u001b[43m(\u001b[49m\u001b[43mparams0\u001b[49m\u001b[43m,\u001b[49m\u001b[43m \u001b[49m\u001b[43mcov\u001b[49m\u001b[43m,\u001b[49m\u001b[43m \u001b[49m\u001b[43mT\u001b[49m\u001b[43m,\u001b[49m\u001b[43m \u001b[49m\u001b[43mlrk\u001b[49m\u001b[43m,\u001b[49m\u001b[43m \u001b[49m\u001b[43moptimal_params\u001b[49m\u001b[43m,\u001b[49m\u001b[43m \u001b[49m\u001b[43mbeta1\u001b[49m\u001b[43m \u001b[49m\u001b[38;5;241;43m=\u001b[39;49m\u001b[43m \u001b[49m\u001b[43mbeta1\u001b[49m\u001b[43m,\u001b[49m\u001b[43m \u001b[49m\u001b[43mbeta2\u001b[49m\u001b[43m \u001b[49m\u001b[38;5;241;43m=\u001b[39;49m\u001b[43m \u001b[49m\u001b[43mbeta2\u001b[49m\u001b[43m,\u001b[49m\u001b[43m \u001b[49m\u001b[43meps\u001b[49m\u001b[43m \u001b[49m\u001b[38;5;241;43m=\u001b[39;49m\u001b[43m \u001b[49m\u001b[38;5;241;43m0.00\u001b[39;49m\u001b[43m)\u001b[49m\n\u001b[1;32m     44\u001b[0m _, sgd_risks \u001b[38;5;241m=\u001b[39m sgd\u001b[38;5;241m.\u001b[39mrun(params0, cov, T, lrk, optimal_params)\n\u001b[1;32m     46\u001b[0m \u001b[38;5;66;03m# Run the SDE equivalents\u001b[39;00m\n\u001b[1;32m     47\u001b[0m \u001b[38;5;66;03m# sgd_sde = SgdSDE(problem_type)\u001b[39;00m\n\u001b[1;32m     48\u001b[0m \u001b[38;5;66;03m# adam_sde = AdamSDE(problem_type)\u001b[39;00m\n\u001b[0;32m   (...)\u001b[0m\n\u001b[1;32m     57\u001b[0m \u001b[38;5;66;03m# sgd_risk, time, B = sgd_ode.run(params0, optimal_params, cov, T, lr, dt = 0.01)\u001b[39;00m\n\u001b[1;32m     58\u001b[0m \u001b[38;5;66;03m# adam_risk, time, B = adam_ode.run(params0, optimal_params, cov, T, lr, dt = 0.01, beta1 = beta1, beta2 = beta2, eps = 0.001)\u001b[39;00m\n",
      "File \u001b[0;32m/home/math/noah.marshall2/adam/multi/optimizers.py:29\u001b[0m, in \u001b[0;36mOptimizer.run\u001b[0;34m(self, params, cov, T, lr_fun, optimal_params, **kwargs)\u001b[0m\n\u001b[1;32m     26\u001b[0m key \u001b[38;5;241m=\u001b[39m \u001b[38;5;28mself\u001b[39m\u001b[38;5;241m.\u001b[39mkey\n\u001b[1;32m     28\u001b[0m state \u001b[38;5;241m=\u001b[39m \u001b[38;5;28mself\u001b[39m\u001b[38;5;241m.\u001b[39minit_state(d)\n\u001b[0;32m---> 29\u001b[0m B \u001b[38;5;241m=\u001b[39m \u001b[43mmake_B\u001b[49m\u001b[43m(\u001b[49m\u001b[43mparams\u001b[49m\u001b[43m,\u001b[49m\u001b[43m \u001b[49m\u001b[43moptimal_params\u001b[49m\u001b[43m,\u001b[49m\u001b[43m \u001b[49m\u001b[43mcov\u001b[49m\u001b[43m)\u001b[49m\n\u001b[1;32m     30\u001b[0m \u001b[38;5;28;01mfor\u001b[39;00m k \u001b[38;5;129;01min\u001b[39;00m tqdm(\u001b[38;5;28mrange\u001b[39m(T \u001b[38;5;241m*\u001b[39m d)):\n\u001b[1;32m     31\u001b[0m     \u001b[38;5;28;01mif\u001b[39;00m \u001b[38;5;28mcallable\u001b[39m(lr_fun):\n",
      "    \u001b[0;31m[... skipping hidden 13 frame]\u001b[0m\n",
      "File \u001b[0;32m/home/math/noah.marshall2/adam/multi/utils.py:24\u001b[0m, in \u001b[0;36mmake_B\u001b[0;34m(params, optimal_params, cov)\u001b[0m\n\u001b[1;32m     20\u001b[0m \u001b[38;5;129m@jax\u001b[39m\u001b[38;5;241m.\u001b[39mjit\n\u001b[1;32m     21\u001b[0m \u001b[38;5;28;01mdef\u001b[39;00m\u001b[38;5;250m \u001b[39m\u001b[38;5;21mmake_B\u001b[39m(params, optimal_params, cov):\n\u001b[1;32m     23\u001b[0m     \u001b[38;5;28;01mif\u001b[39;00m \u001b[38;5;28mlen\u001b[39m(cov\u001b[38;5;241m.\u001b[39mshape) \u001b[38;5;241m==\u001b[39m \u001b[38;5;241m1\u001b[39m:        \n\u001b[0;32m---> 24\u001b[0m         B11 \u001b[38;5;241m=\u001b[39m \u001b[43mjnp\u001b[49m\u001b[38;5;241;43m.\u001b[39;49m\u001b[43mdot\u001b[49m\u001b[43m(\u001b[49m\u001b[43mparams\u001b[49m\u001b[43m,\u001b[49m\u001b[43m \u001b[49m\u001b[43mcov\u001b[49m\u001b[43m \u001b[49m\u001b[38;5;241;43m*\u001b[39;49m\u001b[43m \u001b[49m\u001b[43mparams\u001b[49m\u001b[43m)\u001b[49m\n\u001b[1;32m     25\u001b[0m         B12 \u001b[38;5;241m=\u001b[39m jnp\u001b[38;5;241m.\u001b[39mdot(optimal_params, cov \u001b[38;5;241m*\u001b[39m params)\n\u001b[1;32m     26\u001b[0m         B22 \u001b[38;5;241m=\u001b[39m jnp\u001b[38;5;241m.\u001b[39mdot(optimal_params, cov \u001b[38;5;241m*\u001b[39m optimal_params)        \n",
      "    \u001b[0;31m[... skipping hidden 14 frame]\u001b[0m\n",
      "File \u001b[0;32m~/adam/venv/lib/python3.10/site-packages/jax/_src/numpy/lax_numpy.py:9037\u001b[0m, in \u001b[0;36mdot\u001b[0;34m(a, b, precision, preferred_element_type)\u001b[0m\n\u001b[1;32m   9035\u001b[0m   \u001b[38;5;28;01melse\u001b[39;00m:\n\u001b[1;32m   9036\u001b[0m     contract_dims \u001b[38;5;241m=\u001b[39m ((a_ndim \u001b[38;5;241m-\u001b[39m \u001b[38;5;241m1\u001b[39m,), (b_ndim \u001b[38;5;241m-\u001b[39m \u001b[38;5;241m2\u001b[39m,))\n\u001b[0;32m-> 9037\u001b[0m result \u001b[38;5;241m=\u001b[39m \u001b[43mlax\u001b[49m\u001b[38;5;241;43m.\u001b[39;49m\u001b[43mdot_general\u001b[49m\u001b[43m(\u001b[49m\u001b[43ma\u001b[49m\u001b[43m,\u001b[49m\u001b[43m \u001b[49m\u001b[43mb\u001b[49m\u001b[43m,\u001b[49m\u001b[43m \u001b[49m\u001b[43mdimension_numbers\u001b[49m\u001b[38;5;241;43m=\u001b[39;49m\u001b[43m(\u001b[49m\u001b[43mcontract_dims\u001b[49m\u001b[43m,\u001b[49m\u001b[43m \u001b[49m\u001b[43mbatch_dims\u001b[49m\u001b[43m)\u001b[49m\u001b[43m,\u001b[49m\n\u001b[1;32m   9038\u001b[0m \u001b[43m                         \u001b[49m\u001b[43mprecision\u001b[49m\u001b[38;5;241;43m=\u001b[39;49m\u001b[43mprecision\u001b[49m\u001b[43m,\u001b[49m\n\u001b[1;32m   9039\u001b[0m \u001b[43m                         \u001b[49m\u001b[43mpreferred_element_type\u001b[49m\u001b[38;5;241;43m=\u001b[39;49m\u001b[43mpreferred_element_type\u001b[49m\u001b[43m)\u001b[49m\n\u001b[1;32m   9040\u001b[0m \u001b[38;5;28;01mreturn\u001b[39;00m lax_internal\u001b[38;5;241m.\u001b[39m_convert_element_type(result, preferred_element_type,\n\u001b[1;32m   9041\u001b[0m                                           output_weak_type)\n",
      "    \u001b[0;31m[... skipping hidden 7 frame]\u001b[0m\n",
      "File \u001b[0;32m~/adam/venv/lib/python3.10/site-packages/jax/_src/lax/lax.py:3342\u001b[0m, in \u001b[0;36m_dot_general_shape_rule\u001b[0;34m(lhs, rhs, dimension_numbers, precision, preferred_element_type, out_type)\u001b[0m\n\u001b[1;32m   3339\u001b[0m \u001b[38;5;28;01mif\u001b[39;00m \u001b[38;5;129;01mnot\u001b[39;00m core\u001b[38;5;241m.\u001b[39mdefinitely_equal_shape(lhs_contracting_shape, rhs_contracting_shape):\n\u001b[1;32m   3340\u001b[0m   msg \u001b[38;5;241m=\u001b[39m (\u001b[38;5;124m\"\u001b[39m\u001b[38;5;124mdot_general requires contracting dimensions to have the same \u001b[39m\u001b[38;5;124m\"\u001b[39m\n\u001b[1;32m   3341\u001b[0m          \u001b[38;5;124m\"\u001b[39m\u001b[38;5;124mshape, got \u001b[39m\u001b[38;5;132;01m{}\u001b[39;00m\u001b[38;5;124m and \u001b[39m\u001b[38;5;132;01m{}\u001b[39;00m\u001b[38;5;124m.\u001b[39m\u001b[38;5;124m\"\u001b[39m)\n\u001b[0;32m-> 3342\u001b[0m   \u001b[38;5;28;01mraise\u001b[39;00m \u001b[38;5;167;01mTypeError\u001b[39;00m(msg\u001b[38;5;241m.\u001b[39mformat(lhs_contracting_shape, rhs_contracting_shape))\n\u001b[1;32m   3344\u001b[0m \u001b[38;5;28;01mreturn\u001b[39;00m _dot_general_shape_computation(lhs\u001b[38;5;241m.\u001b[39mshape, rhs\u001b[38;5;241m.\u001b[39mshape, dimension_numbers)\n",
      "\u001b[0;31mTypeError\u001b[0m: dot_general requires contracting dimensions to have the same shape, got (300,) and (2,)."
     ]
    }
   ],
   "source": [
    "from optimizers import Adam, SGD\n",
    "from sdes import AdamSDE, SgdSDE\n",
    "from odes import AdamODE, SgdODE\n",
    "\n",
    "import jax\n",
    "import jax.numpy as jnp\n",
    "from jax.numpy.linalg import norm\n",
    "\n",
    "import matplotlib.pyplot as plt\n",
    "\n",
    "# Setup the problem and parameters\n",
    "\n",
    "problem_type = 'linreg' # from  'logreg' or 'linreg' or 'lip_phaseret' or 'real_phaseret'\n",
    "\n",
    "d = 300 # dimension\n",
    "m = 2\n",
    "beta1 = 0 \n",
    "beta2 = 0.8\n",
    "T = 5 # time to run SDE for\n",
    "\n",
    "lr = 0.2 # SDE learning rate\n",
    "lrk = lr / d # Optimzer learning rate\n",
    "\n",
    "# lr = lambda x: jnp.cos(2 * x / T) # SDE learning rate\n",
    "# lrk = lambda x: jnp.cos(2 * x / T / d) / d # Optimizer learning rate\n",
    "\n",
    "cov = jnp.linspace(0.1, 1.5, d) # initialize with diagonal covariance\n",
    "\n",
    "# params0 = jnp.linspace(2,0.1,d)\n",
    "# optimal_params = jnp.linspace(0.1,2,d)\n",
    "key = jax.random.PRNGKey(0)\n",
    "params0 = jax.random.normal(key, (m,d))\n",
    "optimal_params = jax.random.normal(key, (m,d))\n",
    "\n",
    "params0 /= norm(params0, axis = 1)[:,None]\n",
    "optimal_params /= norm(optimal_params, axis = 1)[:,None]\n",
    "\n",
    "\n",
    "# Run the optimizers\n",
    "adam = Adam(problem_type)\n",
    "sgd = SGD(problem_type)\n",
    "\n",
    "_, adam_risks = adam.run(params0, cov, T, lrk, optimal_params, beta1 = beta1, beta2 = beta2, eps = 0.00)\n",
    "_, sgd_risks = sgd.run(params0, cov, T, lrk, optimal_params)\n",
    "\n",
    "# Run the SDE equivalents\n",
    "# sgd_sde = SgdSDE(problem_type)\n",
    "# adam_sde = AdamSDE(problem_type)\n",
    "\n",
    "# params, sgd_sde_risks, times_s = sgd_sde.run(params0, optimal_params, cov, T, lr)\n",
    "# params, adam_sde_risks, times_s = adam_sde.run(params0, optimal_params, cov, T, lr, beta1 = beta1, beta2 = beta2)\n",
    "\n",
    "# Run the ODE equivalents\n",
    "# adam_ode = AdamODE(problem_type)\n",
    "# sgd_ode = SgdODE(problem_type)\n",
    "\n",
    "# sgd_risk, time, B = sgd_ode.run(params0, optimal_params, cov, T, lr, dt = 0.01)\n",
    "# adam_risk, time, B = adam_ode.run(params0, optimal_params, cov, T, lr, dt = 0.01, beta1 = beta1, beta2 = beta2, eps = 0.001)\n",
    "\n",
    "plt.yscale('log')\n",
    "plt.plot(adam_risks, label = 'Adam')\n",
    "plt.plot(sgd_risks, label = 'SGD')\n",
    "\n",
    "# plt.plot(times_s * d, adam_sde_risks, label = 'Adam SDE')\n",
    "# plt.plot(times_s * d, sgd_sde_risks, label = 'SGD SDE')\n",
    "\n",
    "# plt.plot(time * d, adam_risk, label = 'Adam ODE')\n",
    "# plt.plot(time * d, sgd_risk, label = 'SGD ODE')\n",
    "\n",
    "plt.legend()\n",
    "plt.show()"
   ]
  },
  {
   "cell_type": "code",
   "execution_count": null,
   "metadata": {},
   "outputs": [
    {
     "data": {
      "text/plain": [
       "Array([1., 1.], dtype=float32)"
      ]
     },
     "execution_count": 9,
     "metadata": {},
     "output_type": "execute_result"
    }
   ],
   "source": []
  }
 ],
 "metadata": {
  "kernelspec": {
   "display_name": "venv",
   "language": "python",
   "name": "python3"
  },
  "language_info": {
   "codemirror_mode": {
    "name": "ipython",
    "version": 3
   },
   "file_extension": ".py",
   "mimetype": "text/x-python",
   "name": "python",
   "nbconvert_exporter": "python",
   "pygments_lexer": "ipython3",
   "version": "3.10.12"
  }
 },
 "nbformat": 4,
 "nbformat_minor": 2
}
