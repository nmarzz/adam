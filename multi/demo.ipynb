{
 "cells": [
  {
   "cell_type": "code",
   "execution_count": null,
   "metadata": {},
   "outputs": [
    {
     "name": "stderr",
     "output_type": "stream",
     "text": [
      "100%|██████████| 600/600 [00:00<00:00, 2886.82it/s]\n",
      "100%|██████████| 600/600 [00:00<00:00, 3474.73it/s]\n",
      " 38%|███▊      | 150/400 [02:29<03:40,  1.13it/s]"
     ]
    }
   ],
   "source": [
    "from optimizers import Adam, SGD\n",
    "from sdes import AdamSDE, SgdSDE\n",
    "from odes import AdamODE, SgdODE\n",
    "\n",
    "import jax\n",
    "import jax.numpy as jnp\n",
    "from jax.numpy.linalg import norm\n",
    "\n",
    "import matplotlib.pyplot as plt\n",
    "\n",
    "# Setup the problem and parameters\n",
    "\n",
    "problem_type = 'linreg' # from  'logreg' or 'linreg' or 'lip_phaseret' or 'real_phaseret'\n",
    "\n",
    "d = 300 # dimension\n",
    "m = 1\n",
    "beta1 = 0 \n",
    "beta2 = 0.7\n",
    "T = 2 # time to run SDE for\n",
    "\n",
    "lr = 1.2 # SDE learning rate\n",
    "lrk = lr / d # Optimzer learning rate\n",
    "\n",
    "# lr = lambda x: jnp.cos(2 * x / T) # SDE learning rate\n",
    "# lrk = lambda x: jnp.cos(2 * x / T / d) / d # Optimizer learning rate\n",
    "\n",
    "cov = jnp.linspace(0.1, 1.5, d) # initialize with diagonal covariance\n",
    "# cov = jnp.diag(cov)\n",
    "\n",
    "# params0 = jnp.linspace(2,0.1,d)\n",
    "# optimal_params = jnp.linspace(0.1,2,d)\n",
    "key = jax.random.PRNGKey(0)\n",
    "key_init, key_opt, key = jax.random.split(key, 3)\n",
    "\n",
    "params0 = jax.random.normal(key_init, (d,m))\n",
    "optimal_params = jax.random.normal(key_opt, (d,m))\n",
    "\n",
    "params0 /= norm(params0, axis = 0)\n",
    "optimal_params /= norm(optimal_params, axis = 0)\n",
    "\n",
    "\n",
    "# Run the optimizers\n",
    "adam = Adam(problem_type)\n",
    "sgd = SGD(problem_type)\n",
    "\n",
    "_, sgd_risks = sgd.run(params0, cov, T, lrk, optimal_params)\n",
    "_, adam_risks = adam.run(params0, cov, T, lrk, optimal_params, beta1 = beta1, beta2 = beta2, eps = 0.00)\n",
    "\n",
    "# Run the SDE equivalents\n",
    "# sgd_sde = SgdSDE(problem_type)\n",
    "adam_sde = AdamSDE(problem_type)\n",
    "\n",
    "# params, sgd_sde_risks, times_s = sgd_sde.run(params0, optimal_params, cov, T, lr)\n",
    "params, adam_sde_risks, times_s = adam_sde.run(params0, optimal_params, cov, T, lr, beta1 = beta1, beta2 = beta2)\n",
    "\n",
    "# Run the ODE equivalents\n",
    "# adam_ode = AdamODE(problem_type)\n",
    "# sgd_ode = SgdODE(problem_type)\n",
    "\n",
    "# sgd_risk, time, B = sgd_ode.run(params0, optimal_params, cov, T, lr, dt = 0.01)\n",
    "# adam_risk, time, B = adam_ode.run(params0, optimal_params, cov, T, lr, dt = 0.01, beta1 = beta1, beta2 = beta2, eps = 0.001)\n",
    "\n",
    "plt.yscale('log')\n",
    "# plt.xscale('log')\n",
    "plt.plot(adam_risks, label = 'Adam')\n",
    "plt.plot(sgd_risks, label = 'SGD')\n",
    "\n",
    "plt.plot(times_s * d, adam_sde_risks, label = 'Adam SDE')\n",
    "# plt.plot(times_s * d, sgd_sde_risks, label = 'SGD SDE')\n",
    "\n",
    "# plt.plot(time * d, adam_risk, label = 'Adam ODE')\n",
    "# plt.plot(time * d, sgd_risk, label = 'SGD ODE')\n",
    "\n",
    "plt.legend()\n",
    "plt.show()"
   ]
  },
  {
   "cell_type": "code",
   "execution_count": null,
   "metadata": {},
   "outputs": [],
   "source": [
    "from utils import make_B\n",
    "n_samples = 2\n",
    "beta = beta2\n",
    "\n",
    "def f(q):\n",
    "    q1 = q[:,:,0:m]\n",
    "    q2 = q[:,:,m:]\n",
    "    return q1 - q2\n",
    "\n",
    "B = make_B(params0, optimal_params, cov)\n",
    "\n",
    "key_Q, key_Q_hist, key_z, key_z_hist = jax.random.split(key, 4)\n",
    "\n",
    "history_length = 50\n",
    "Q = jax.random.multivariate_normal(key_Q, mean = jnp.zeros(len(B)), cov = B, shape=(n_samples, 1))\n",
    "z = jax.random.normal(key_z, (n_samples,1))\n",
    "\n",
    "Q_history = jax.random.multivariate_normal(key_Q_hist, mean = jnp.zeros(len(B)), cov = B, shape=(n_samples, history_length))\n",
    "z_history = jax.random.normal(key_z_hist, (n_samples, history_length))\n",
    "\n",
    "decay_vec = jnp.array([beta ** i for i in range(1, history_length + 1)])\n",
    "history_average = (1 - beta) * jnp.einsum('abc,b->ac', f(Q_history)**2 * z_history[:,:,None]**2, decay_vec)\n",
    "\n",
    "\n",
    "fq = f(Q)\n",
    "fq = fq.squeeze()        \n",
    "\n",
    "vvv = (z**2 * fq**2 / (history_average + (1-beta) * z**2 * fq**2))\n",
    "op = jnp.einsum('ab,ac->abc', vvv, vvv)\n"
   ]
  },
  {
   "cell_type": "code",
   "execution_count": null,
   "metadata": {},
   "outputs": [
    {
     "name": "stdout",
     "output_type": "stream",
     "text": [
      "(2000, 1, 1)\n",
      "(2000, 1)\n",
      "(2000, 2)\n",
      "(2000, 1)\n",
      "(2000, 1)\n",
      "(2000, 2)\n",
      "(2000, 2)\n",
      "BINV: (2, 2)\n",
      "(2,)\n"
     ]
    }
   ],
   "source": [
    "m = 1\n",
    "\n",
    "cov = jnp.linspace(0.1, 1.5, d) # initialize with diagonal covariance\n",
    "# cov = jnp.diag(cov)\n",
    "\n",
    "key = jax.random.PRNGKey(0)\n",
    "key_init, key_opt, key = jax.random.split(key, 3)\n",
    "\n",
    "params0 = jax.random.normal(key_init, (d,m))\n",
    "optimal_params = jax.random.normal(key_opt, (d,m))\n",
    "\n",
    "params0 /= norm(params0, axis = 0)\n",
    "optimal_params /= norm(optimal_params, axis = 0)\n",
    "\n",
    "\n",
    "\n",
    "from utils import make_B\n",
    "n_samples = 2000\n",
    "beta = beta2\n",
    "\n",
    "def f(q):\n",
    "    q1 = q[:,:,0:m]\n",
    "    q2 = q[:,:,m:]\n",
    "    return q1 - q2\n",
    "\n",
    "B = make_B(params0, optimal_params, cov)\n",
    "\n",
    "key_Q, key_Q_hist, key_z, key_z_hist = jax.random.split(key, 4)\n",
    "Binv = jnp.linalg.inv(B)\n",
    "\n",
    "history_length = 500\n",
    "Q = jax.random.multivariate_normal(key_Q, mean = jnp.zeros(len(B)), cov = B, shape=(n_samples,1))\n",
    "z = jax.random.normal(key_z, (n_samples,1))\n",
    "\n",
    "Q_history = jax.random.multivariate_normal(key_Q_hist, mean = jnp.zeros(len(B)), cov = B, shape=(n_samples, history_length))\n",
    "z_history = jax.random.normal(key_z_hist, (n_samples, history_length))\n",
    "\n",
    "decay_vec = jnp.array([beta ** i for i in range(1, history_length + 1)])\n",
    "# history_average = (1-beta)*(f(Q_history)**2 * z_history**2) @ decay_vec\n",
    "history_average = (1 - beta) * jnp.einsum('abc,b->ac', f(Q_history)**2 * z_history[:,:,None]**2, decay_vec)\n",
    "\n",
    "\n",
    "print(f(Q).shape)\n",
    "fq = f(Q).squeeze(axis=1)\n",
    "Q = Q.squeeze()\n",
    "print(history_average.shape)\n",
    "print(Q.shape)\n",
    "print(fq.shape)\n",
    "\n",
    "phi_coef = z**2 * fq / jnp.sqrt( history_average + (1-beta) * z**2 * fq**2)\n",
    "print(phi_coef.shape)\n",
    "\n",
    "phi_coef = jnp.concatenate([phi_coef,phi_coef], axis = 1)\n",
    "\n",
    "print(phi_coef.shape)\n",
    "print(Q.shape)\n",
    "print(f'BINV: {Binv.shape}')\n",
    "\n",
    "phi = jnp.mean(phi_coef * Q @ Binv, axis = 0)\n",
    "print(phi.shape) # We expect shape 2m"
   ]
  },
  {
   "cell_type": "code",
   "execution_count": null,
   "metadata": {},
   "outputs": [
    {
     "data": {
      "text/plain": [
       "(2, 2)"
      ]
     },
     "execution_count": 4,
     "metadata": {},
     "output_type": "execute_result"
    }
   ],
   "source": [
    "Binv.shape"
   ]
  },
  {
   "cell_type": "code",
   "execution_count": null,
   "metadata": {},
   "outputs": [
    {
     "data": {
      "text/plain": [
       "(2000, 2)"
      ]
     },
     "execution_count": 5,
     "metadata": {},
     "output_type": "execute_result"
    }
   ],
   "source": [
    "(Q @ Binv).shape"
   ]
  },
  {
   "cell_type": "code",
   "execution_count": null,
   "metadata": {},
   "outputs": [
    {
     "data": {
      "text/plain": [
       "1.52940586617225e-08"
      ]
     },
     "execution_count": 6,
     "metadata": {},
     "output_type": "execute_result"
    }
   ],
   "source": [
    "1.2366915e-04**2"
   ]
  },
  {
   "cell_type": "code",
   "execution_count": null,
   "metadata": {},
   "outputs": [
    {
     "data": {
      "text/plain": [
       "Array([[3.80487037e-08, 1.09688685e-07],\n",
       "       [1.09688685e-07, 3.16215960e-07]], dtype=float32)"
      ]
     },
     "execution_count": 7,
     "metadata": {},
     "output_type": "execute_result"
    }
   ],
   "source": [
    "jnp.outer(vvv[0,:],vvv[0,:])"
   ]
  },
  {
   "cell_type": "code",
   "execution_count": null,
   "metadata": {},
   "outputs": [
    {
     "data": {
      "text/plain": [
       "(2, 2)"
      ]
     },
     "execution_count": 8,
     "metadata": {},
     "output_type": "execute_result"
    }
   ],
   "source": [
    "B.shape"
   ]
  },
  {
   "cell_type": "code",
   "execution_count": null,
   "metadata": {},
   "outputs": [
    {
     "data": {
      "text/plain": [
       "(2000, 1)"
      ]
     },
     "execution_count": 9,
     "metadata": {},
     "output_type": "execute_result"
    }
   ],
   "source": [
    "z.shape"
   ]
  },
  {
   "cell_type": "code",
   "execution_count": null,
   "metadata": {},
   "outputs": [
    {
     "data": {
      "text/plain": [
       "Array([[0.13206473],\n",
       "       [0.83580405],\n",
       "       [2.7171264 ],\n",
       "       ...,\n",
       "       [0.7984618 ],\n",
       "       [0.00418052],\n",
       "       [0.01582386]], dtype=float32)"
      ]
     },
     "execution_count": 10,
     "metadata": {},
     "output_type": "execute_result"
    }
   ],
   "source": [
    "z**2 * fq**2 / (history_average + (1-beta) * z**2 * fq**2)"
   ]
  },
  {
   "cell_type": "code",
   "execution_count": null,
   "metadata": {},
   "outputs": [],
   "source": []
  },
  {
   "cell_type": "code",
   "execution_count": null,
   "metadata": {},
   "outputs": [],
   "source": []
  },
  {
   "cell_type": "code",
   "execution_count": null,
   "metadata": {},
   "outputs": [],
   "source": []
  },
  {
   "cell_type": "code",
   "execution_count": null,
   "metadata": {},
   "outputs": [],
   "source": []
  }
 ],
 "metadata": {
  "kernelspec": {
   "display_name": "venv",
   "language": "python",
   "name": "python3"
  },
  "language_info": {
   "codemirror_mode": {
    "name": "ipython",
    "version": 3
   },
   "file_extension": ".py",
   "mimetype": "text/x-python",
   "name": "python",
   "nbconvert_exporter": "python",
   "pygments_lexer": "ipython3",
   "version": "3.12.0"
  }
 },
 "nbformat": 4,
 "nbformat_minor": 2
}
