{
 "cells": [
  {
   "cell_type": "markdown",
   "metadata": {},
   "source": [
    "# Multiclass Adam (and SGD) on a general problem class\n",
    "\n",
    "#### Notes\n",
    " \n",
    " - I super recommend using a GPU to run this, otherwise it's slow.\n",
    " - Code currently can't handle a non-diagonal data covariance for Adam. The \"gradient noise term\" isn't calculated correctly (It gets much more expensive). TODO\n",
    " - If Adam looks bad increase the \"history_length\" and \"num_samples\" values in the \"compute_phi...\" and \"compute_cov..\" functions. These control and approximation quality"
   ]
  },
  {
   "cell_type": "code",
   "execution_count": null,
   "metadata": {},
   "outputs": [
    {
     "name": "stderr",
     "output_type": "stream",
     "text": [
      "100%|██████████| 12000/12000 [00:06<00:00, 1948.29it/s]\n",
      "100%|██████████| 12000/12000 [00:05<00:00, 2058.39it/s]\n"
     ]
    },
    {
     "data": {
      "image/png": "[encoded data removed]",
      "text/plain": [
       "<Figure size 640x480 with 1 Axes>"
      ]
     },
     "metadata": {},
     "output_type": "display_data"
    }
   ],
   "source": [
    "from sdes import AdamSDE, SgdSDE\n",
    "from odes import AdamODE, SgdODE\n",
    "from optimizers import Adam, SGD, ResampledAdam, BlockAdam\n",
    "\n",
    "import jax\n",
    "import jax.numpy as jnp\n",
    "from jax.numpy.linalg import norm\n",
    "import numpy as np\n",
    "import matplotlib.pyplot as plt\n",
    "import scipy\n",
    "# jax.config.update(\"jax_log_compiles\", True)\n",
    "\n",
    "# Setup the problem and parameters\n",
    "problem_type = 'linreg' # from  'logreg' or 'linreg', 'real_phase_ret'\n",
    "\n",
    "d = 800 # dimension\n",
    "m = 1 # number of classes (target dimension)\n",
    "beta1 = 0.5  # caution setting these values above 0.9 or so without increasing \"history_length\" \n",
    "beta2 = 0.5\n",
    "eps = 0\n",
    "T = 15 # time to run SDE for\n",
    "\n",
    "lr = 0.5 # SDE learning rate\n",
    "lrk = lr / d # Optimzer learning rate\n",
    "\n",
    "# lr = lambda x: jnp.cos(2 * x / T) # SDE learning rate\n",
    "# lrk = lambda x: jnp.cos(2 * x / T / d) / d # Optimizer learning rate\n",
    "\n",
    "cov_diag = jnp.linspace(0.1, 1, d) # initialize with diagonal covariance\n",
    "cov = cov_diag\n",
    "# cov = jnp.array([j**(-0.5) for j in range(1, d+1)])\n",
    "# cov = jnp.ones(d)\n",
    "# U = scipy.linalg.orth(np.random.normal(size=(d, d)))\n",
    "# cov = U @ jnp.diag(cov_diag) @ U.T\n",
    "# cov = jnp.diag(cov_diag) \n",
    "\n",
    "# rho = 0.1\n",
    "# J = jnp.ones((d, d))\n",
    "# cov = (1 - rho) * jnp.eye(d) + rho * J\n",
    "# cov_diag = jnp.diag(cov)\n",
    "\n",
    "# cov = np.random.randn(d, d * 2)\n",
    "# cov = cov @ cov.T\n",
    "\n",
    "\n",
    "key = jax.random.PRNGKey(np.random.randint(0, 10000))\n",
    "key_init, key_opt, key = jax.random.split(key, 3)\n",
    "\n",
    "key_init = jax.random.PRNGKey(1331)\n",
    "key_opt = jax.random.PRNGKey(1331//2)\n",
    "params0 = jax.random.normal(key_init, (d,m))\n",
    "# params0 = jnp.ones((d,m)) * 0.5\n",
    "# optimal_params = params0 + 0.1*jax.random.normal(key_opt, (d,m))\n",
    "optimal_params = jax.random.normal(key_opt, (d,m))\n",
    "# optimal_params = jnp.zeros_like(params0)\n",
    "\n",
    "# params0 = jnp.linspace(0.1, 1, d).reshape((d,1))\n",
    "# optimal_params = jnp.ones((d,m)) * 3\n",
    "\n",
    "\n",
    "\n",
    "params0 /= norm(params0, axis = 0)\n",
    "optimal_params /= norm(optimal_params, axis = 0)\n",
    "# optimal_params *= 5\n",
    "\n",
    "# Run the ODE equivalents\n",
    "adam_ode = AdamODE(problem_type)\n",
    "# sgd_ode = SgdODE(problem_type)\n",
    "\n",
    "dt = 0.01\n",
    "num_samples = 300\n",
    "# adam_risk, adam_time, B = adam_ode.run(params0, optimal_params, cov, T, lr, dt = dt, beta1 = beta1, beta2 = beta2, eps = eps, num_samples = num_samples)\n",
    "\n",
    "\n",
    "# adam_risk_diag, adam_time, B = adam_ode.run(params0, optimal_params, cov_diag, T, lr, dt = dt, beta1 = beta1, beta2 = beta2, eps = eps, num_samples = num_samples)\n",
    "# sgd_risk, sgd_time, B = sgd_ode.run(params0, optimal_params, cov, T, lr, dt = dt * 2)\n",
    "\n",
    "\n",
    "# Run the optimizers\n",
    "adam = Adam(problem_type)\n",
    "block_adam = BlockAdam(problem_type)\n",
    "resampled_adam = ResampledAdam(problem_type)\n",
    "sgd = SGD(problem_type)\n",
    "\n",
    "# _, resampled_adam_risks = resampled_adam.run(params0, cov, T, lrk, optimal_params, beta1 = beta1, beta2 = beta2, eps = eps)\n",
    "# _, sgd_risks = sgd.run(params0, cov, T, lrk, optimal_params)\n",
    "_, block_adam_risks = block_adam.run(params0, cov, T, lrk, optimal_params, beta1 = beta1, beta2 = beta2, eps = eps)\n",
    "opt_p, adam_risks = adam.run(params0, cov, T, lrk, optimal_params, beta1 = beta1, beta2 = beta2, eps = eps)\n",
    "# _, adam_risks_beta0 = adam.run(params0, cov, T, lrk, optimal_params, beta1 = 0, beta2 = beta2, eps = eps)\n",
    "\n",
    "# Run the SDE equivalents\n",
    "sgd_sde = SgdSDE(problem_type)\n",
    "adam_sde = AdamSDE(problem_type)\n",
    "\n",
    "# _, sgd_sde_risks, times_s = sgd_sde.run(params0, optimal_params, cov, T, lr)\n",
    "# params, adam_sde_risks, times_s = adam_sde.run(params0, optimal_params, cov, T, lr, beta1 = beta1, beta2 = beta2, )\n",
    "\n",
    "\n",
    "\n",
    "plt.yscale('log')\n",
    "# plt.xscale('log')\n",
    "plt.plot(adam_risks, label = 'Adam')\n",
    "plt.plot(block_adam_risks, label = 'Block Adam')\n",
    "# plt.plot(resampled_adam_risks, label = 'Resampled Adam', ls = ':')\n",
    "# plt.plot(adam_risks_beta0, label = 'Adam beta1=0')\n",
    "# plt.plot(sgd_risks, label = 'SGD')\n",
    "\n",
    "# plt.plot(times_s * d, adam_sde_risks, label = 'Adam SDE')\n",
    "# plt.plot(times_s * d, sgd_sde_risks, label = 'SGD SDE')\n",
    "\n",
    "# plt.plot(adam_time * d, adam_risk, label = 'Adam ODE')\n",
    "# plt.plot(adam_time * d, adam_risk_diag, label = 'Adam ODE Diagonal')\n",
    "# plt.plot(sgd_time * d, sgd_risk, label = 'SGD ODE')\n",
    "plt.title(f'Adam vs SGD: lr: {lr}, d: {d}, beta1: {beta1}, beta2: {beta2}')\n",
    "plt.legend()\n",
    "plt.show()"
   ]
  },
  {
   "cell_type": "code",
   "execution_count": 5,
   "metadata": {},
   "outputs": [
    {
     "ename": "AttributeError",
     "evalue": "'BlockAdam' object has no attribute 'step'",
     "output_type": "error",
     "traceback": [
      "\u001b[0;31m---------------------------------------------------------------------------\u001b[0m",
      "\u001b[0;31mAttributeError\u001b[0m                            Traceback (most recent call last)",
      "Cell \u001b[0;32mIn[5], line 1\u001b[0m\n\u001b[0;32m----> 1\u001b[0m \u001b[43mblock_adam\u001b[49m\u001b[38;5;241;43m.\u001b[39;49m\u001b[43mstep\u001b[49m\n",
      "\u001b[0;31mAttributeError\u001b[0m: 'BlockAdam' object has no attribute 'step'"
     ]
    }
   ],
   "source": [
    "block_adam.step"
   ]
  },
  {
   "cell_type": "code",
   "execution_count": null,
   "metadata": {},
   "outputs": [],
   "source": []
  }
 ],
 "metadata": {
  "kernelspec": {
   "display_name": "hope (3.10.12)",
   "language": "python",
   "name": "python3"
  },
  "language_info": {
   "codemirror_mode": {
    "name": "ipython",
    "version": 3
   },
   "file_extension": ".py",
   "mimetype": "text/x-python",
   "name": "python",
   "nbconvert_exporter": "python",
   "pygments_lexer": "ipython3",
   "version": "3.10.12"
  }
 },
 "nbformat": 4,
 "nbformat_minor": 2
}
