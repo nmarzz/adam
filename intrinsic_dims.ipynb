{
 "cells": [
  {
   "cell_type": "code",
   "execution_count": null,
   "metadata": {},
   "outputs": [
    {
     "name": "stderr",
     "output_type": "stream",
     "text": [
      "100%|██████████| 170M/170M [00:05<00:00, 29.2MB/s] \n",
      "100%|██████████| 169M/169M [00:02<00:00, 79.2MB/s] \n",
      "100%|██████████| 9.91M/9.91M [00:00<00:00, 44.7MB/s]\n",
      "100%|██████████| 28.9k/28.9k [00:00<00:00, 2.46MB/s]\n",
      "100%|██████████| 1.65M/1.65M [00:00<00:00, 15.8MB/s]\n",
      "100%|██████████| 4.54k/4.54k [00:00<00:00, 2.48MB/s]\n"
     ]
    },
    {
     "name": "stdout",
     "output_type": "stream",
     "text": [
      "CIFAR-10 -> Trace: 190.6145782470703, Largest Eigenvalue: 55.66353225708008\n",
      "CIFAR-100 -> Trace: 217.10032653808594, Largest Eigenvalue: 73.90557861328125\n",
      "MNIST -> Trace: 52.9100456237793, Largest Eigenvalue: 5.135982513427734\n"
     ]
    }
   ],
   "source": [
    "import torch\n",
    "import torchvision\n",
    "import torchvision.transforms as transforms\n",
    "\n",
    "\n",
    "def estimate_trace_and_largest_eigenvalue_of_covariance(dataset, num_samples=10000):\n",
    "    # Load a subset of the dataset\n",
    "    loader = torch.utils.data.DataLoader(dataset, batch_size=num_samples, shuffle=True)\n",
    "    data_iter = iter(loader)\n",
    "    images, _ = next(data_iter)\n",
    "\n",
    "    # Flatten the images\n",
    "    flattened_images = images.view(images.size(0), -1)\n",
    "\n",
    "    # Center the data\n",
    "    flattened_images -= flattened_images.mean(dim=0)\n",
    "\n",
    "    # Estimate covariance matrix\n",
    "    covariance_matrix = flattened_images.T @ flattened_images / (num_samples - 1)\n",
    "\n",
    "    # Estimate trace of covariance matrix\n",
    "    trace_estimate = torch.trace(covariance_matrix).item()\n",
    "\n",
    "    # Estimate largest eigenvalue of covariance matrix\n",
    "    largest_eigenvalue = torch.linalg.eigvalsh(covariance_matrix).max().item()\n",
    "\n",
    "    return trace_estimate, largest_eigenvalue\n",
    "\n",
    "\n",
    "if __name__ == \"__main__\":\n",
    "    # Define the transform to normalize the data\n",
    "    transform = transforms.Compose([\n",
    "        transforms.ToTensor(),\n",
    "    ])\n",
    "\n",
    "    # Load datasets\n",
    "    cifar10_train = torchvision.datasets.CIFAR10(root=\"./data\", train=True, download=True, transform=transform)\n",
    "    cifar100_train = torchvision.datasets.CIFAR100(root=\"./data\", train=True, download=True, transform=transform)\n",
    "    mnist_train = torchvision.datasets.MNIST(root=\"./data\", train=True, download=True, transform=transform)\n",
    "\n",
    "    # Estimate trace and largest eigenvalue for each dataset\n",
    "    cifar10_trace, cifar10_largest_eigenvalue = estimate_trace_and_largest_eigenvalue_of_covariance(cifar10_train)\n",
    "    print(f\"CIFAR-10 -> Trace: {cifar10_trace}, Largest Eigenvalue: {cifar10_largest_eigenvalue}\")\n",
    "    print(f\"CIFAR-10 -> intrisic dimension: {cifar10_trace / cifar10_largest_eigenvalue} \")\n",
    "\n",
    "    cifar100_trace, cifar100_largest_eigenvalue = estimate_trace_and_largest_eigenvalue_of_covariance(cifar100_train)\n",
    "    print(f\"CIFAR-100 -> Trace: {cifar100_trace}, Largest Eigenvalue: {cifar100_largest_eigenvalue}\")\n",
    "\n",
    "    mnist_trace, mnist_largest_eigenvalue = estimate_trace_and_largest_eigenvalue_of_covariance(mnist_train)\n",
    "    print(f\"MNIST -> Trace: {mnist_trace}, Largest Eigenvalue: {mnist_largest_eigenvalue}\")\n"
   ]
  }
 ],
 "metadata": {
  "kernelspec": {
   "display_name": "venv",
   "language": "python",
   "name": "python3"
  },
  "language_info": {
   "codemirror_mode": {
    "name": "ipython",
    "version": 3
   },
   "file_extension": ".py",
   "mimetype": "text/x-python",
   "name": "python",
   "nbconvert_exporter": "python",
   "pygments_lexer": "ipython3",
   "version": "3.10.12"
  }
 },
 "nbformat": 4,
 "nbformat_minor": 2
}
